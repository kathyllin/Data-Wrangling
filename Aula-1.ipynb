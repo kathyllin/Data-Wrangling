{
 "cells": [
  {
   "cell_type": "code",
   "execution_count": 2,
   "metadata": {},
   "outputs": [],
   "source": [
    "import pandas as pd\n",
    "import numpy as np\n",
    "import seaborn as sns\n",
    "import matplotlib.pyplot as plt"
   ]
  },
  {
   "cell_type": "code",
   "execution_count": 3,
   "metadata": {},
   "outputs": [],
   "source": [
    "dados_tempo = pd.read_excel('(1.2) dataset_principal.xls')\n",
    "dados_merge = pd.read_excel('(1.3) dataset_join.xls')"
   ]
  },
  {
   "cell_type": "code",
   "execution_count": 4,
   "metadata": {},
   "outputs": [
    {
     "name": "stdout",
     "output_type": "stream",
     "text": [
      "     Estudante  Tempo para chegar à escola (minutos)  \\\n",
      "0     Gabriela                                    15   \n",
      "1       Dalila                                    20   \n",
      "2      Gustavo                                    20   \n",
      "3      Letícia                                    40   \n",
      "4  Luiz Ovídio                                    50   \n",
      "5       Leonor                                    25   \n",
      "6          Ana                                    10   \n",
      "7      Antônio                                    55   \n",
      "8        Júlia                                    35   \n",
      "9      Mariana                                    30   \n",
      "\n",
      "   Distância percorrida até a escola (quilômetros)  Quantidade de semáforos  \\\n",
      "0                                                8                        0   \n",
      "1                                                6                        1   \n",
      "2                                               15                        0   \n",
      "3                                               20                        1   \n",
      "4                                               25                        2   \n",
      "5                                               11                        1   \n",
      "6                                                5                        0   \n",
      "7                                               32                        3   \n",
      "8                                               28                        1   \n",
      "9                                               20                        1   \n",
      "\n",
      "  Período do dia Perfil ao volante  \n",
      "0          Manhã             calmo  \n",
      "1          Manhã          moderado  \n",
      "2          Manhã          moderado  \n",
      "3          Tarde         agressivo  \n",
      "4          Tarde         agressivo  \n",
      "5          Manhã          moderado  \n",
      "6          Manhã             calmo  \n",
      "7          Tarde             calmo  \n",
      "8          Manhã          moderado  \n",
      "9          Manhã          moderado  \n"
     ]
    }
   ],
   "source": [
    "pd.set_option(\"display.max.columns\", None)\n",
    "\n",
    "print(dados_tempo)"
   ]
  },
  {
   "cell_type": "code",
   "execution_count": 5,
   "metadata": {},
   "outputs": [
    {
     "data": {
      "text/plain": [
       "Index(['Estudante', 'Tempo para chegar à escola (minutos)',\n",
       "       'Distância percorrida até a escola (quilômetros)',\n",
       "       'Quantidade de semáforos', 'Período do dia', 'Perfil ao volante'],\n",
       "      dtype='object')"
      ]
     },
     "execution_count": 5,
     "metadata": {},
     "output_type": "execute_result"
    }
   ],
   "source": [
    "dados_tempo.columns"
   ]
  }
 ],
 "metadata": {
  "kernelspec": {
   "display_name": "Python 3",
   "language": "python",
   "name": "python3"
  },
  "language_info": {
   "codemirror_mode": {
    "name": "ipython",
    "version": 3
   },
   "file_extension": ".py",
   "mimetype": "text/x-python",
   "name": "python",
   "nbconvert_exporter": "python",
   "pygments_lexer": "ipython3",
   "version": "3.13.2"
  }
 },
 "nbformat": 4,
 "nbformat_minor": 2
}
