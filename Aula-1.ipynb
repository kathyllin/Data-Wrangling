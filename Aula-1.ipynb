{
 "cells": [
  {
   "cell_type": "code",
   "execution_count": 2,
   "metadata": {},
   "outputs": [],
   "source": [
    "import pandas as pd\n",
    "import numpy as np\n",
    "import seaborn as sns\n",
    "import matplotlib.pyplot as plt"
   ]
  },
  {
   "cell_type": "code",
   "execution_count": 3,
   "metadata": {},
   "outputs": [],
   "source": [
    "dados_tempo = pd.read_excel('(1.2) dataset_principal.xls')\n",
    "dados_merge = pd.read_excel('(1.3) dataset_join.xls')"
   ]
  },
  {
   "cell_type": "code",
   "execution_count": 4,
   "metadata": {},
   "outputs": [
    {
     "name": "stdout",
     "output_type": "stream",
     "text": [
      "     Estudante  Tempo para chegar à escola (minutos)  \\\n",
      "0     Gabriela                                    15   \n",
      "1       Dalila                                    20   \n",
      "2      Gustavo                                    20   \n",
      "3      Letícia                                    40   \n",
      "4  Luiz Ovídio                                    50   \n",
      "5       Leonor                                    25   \n",
      "6          Ana                                    10   \n",
      "7      Antônio                                    55   \n",
      "8        Júlia                                    35   \n",
      "9      Mariana                                    30   \n",
      "\n",
      "   Distância percorrida até a escola (quilômetros)  Quantidade de semáforos  \\\n",
      "0                                                8                        0   \n",
      "1                                                6                        1   \n",
      "2                                               15                        0   \n",
      "3                                               20                        1   \n",
      "4                                               25                        2   \n",
      "5                                               11                        1   \n",
      "6                                                5                        0   \n",
      "7                                               32                        3   \n",
      "8                                               28                        1   \n",
      "9                                               20                        1   \n",
      "\n",
      "  Período do dia Perfil ao volante  \n",
      "0          Manhã             calmo  \n",
      "1          Manhã          moderado  \n",
      "2          Manhã          moderado  \n",
      "3          Tarde         agressivo  \n",
      "4          Tarde         agressivo  \n",
      "5          Manhã          moderado  \n",
      "6          Manhã             calmo  \n",
      "7          Tarde             calmo  \n",
      "8          Manhã          moderado  \n",
      "9          Manhã          moderado  \n"
     ]
    }
   ],
   "source": [
    "pd.set_option(\"display.max.columns\", None)\n",
    "\n",
    "print(dados_tempo)"
   ]
  },
  {
   "cell_type": "code",
   "execution_count": 5,
   "metadata": {},
   "outputs": [
    {
     "data": {
      "text/plain": [
       "Index(['Estudante', 'Tempo para chegar à escola (minutos)',\n",
       "       'Distância percorrida até a escola (quilômetros)',\n",
       "       'Quantidade de semáforos', 'Período do dia', 'Perfil ao volante'],\n",
       "      dtype='object')"
      ]
     },
     "execution_count": 5,
     "metadata": {},
     "output_type": "execute_result"
    }
   ],
   "source": [
    "dados_tempo.columns"
   ]
  },
  {
   "cell_type": "code",
   "execution_count": 6,
   "metadata": {},
   "outputs": [
    {
     "data": {
      "text/html": [
       "<div>\n",
       "<style scoped>\n",
       "    .dataframe tbody tr th:only-of-type {\n",
       "        vertical-align: middle;\n",
       "    }\n",
       "\n",
       "    .dataframe tbody tr th {\n",
       "        vertical-align: top;\n",
       "    }\n",
       "\n",
       "    .dataframe thead th {\n",
       "        text-align: right;\n",
       "    }\n",
       "</style>\n",
       "<table border=\"1\" class=\"dataframe\">\n",
       "  <thead>\n",
       "    <tr style=\"text-align: right;\">\n",
       "      <th></th>\n",
       "      <th>Estudante</th>\n",
       "      <th>Tempo para chegar à escola (minutos)</th>\n",
       "      <th>Distância percorrida até a escola (quilômetros)</th>\n",
       "      <th>Quantidade de semáforos</th>\n",
       "      <th>Período do dia</th>\n",
       "      <th>Perfil ao volante</th>\n",
       "    </tr>\n",
       "  </thead>\n",
       "  <tbody>\n",
       "    <tr>\n",
       "      <th>0</th>\n",
       "      <td>Gabriela</td>\n",
       "      <td>15</td>\n",
       "      <td>8</td>\n",
       "      <td>0</td>\n",
       "      <td>Manhã</td>\n",
       "      <td>calmo</td>\n",
       "    </tr>\n",
       "    <tr>\n",
       "      <th>1</th>\n",
       "      <td>Dalila</td>\n",
       "      <td>20</td>\n",
       "      <td>6</td>\n",
       "      <td>1</td>\n",
       "      <td>Manhã</td>\n",
       "      <td>moderado</td>\n",
       "    </tr>\n",
       "    <tr>\n",
       "      <th>2</th>\n",
       "      <td>Gustavo</td>\n",
       "      <td>20</td>\n",
       "      <td>15</td>\n",
       "      <td>0</td>\n",
       "      <td>Manhã</td>\n",
       "      <td>moderado</td>\n",
       "    </tr>\n",
       "    <tr>\n",
       "      <th>3</th>\n",
       "      <td>Letícia</td>\n",
       "      <td>40</td>\n",
       "      <td>20</td>\n",
       "      <td>1</td>\n",
       "      <td>Tarde</td>\n",
       "      <td>agressivo</td>\n",
       "    </tr>\n",
       "    <tr>\n",
       "      <th>4</th>\n",
       "      <td>Luiz Ovídio</td>\n",
       "      <td>50</td>\n",
       "      <td>25</td>\n",
       "      <td>2</td>\n",
       "      <td>Tarde</td>\n",
       "      <td>agressivo</td>\n",
       "    </tr>\n",
       "  </tbody>\n",
       "</table>\n",
       "</div>"
      ],
      "text/plain": [
       "     Estudante  Tempo para chegar à escola (minutos)  \\\n",
       "0     Gabriela                                    15   \n",
       "1       Dalila                                    20   \n",
       "2      Gustavo                                    20   \n",
       "3      Letícia                                    40   \n",
       "4  Luiz Ovídio                                    50   \n",
       "\n",
       "   Distância percorrida até a escola (quilômetros)  Quantidade de semáforos  \\\n",
       "0                                                8                        0   \n",
       "1                                                6                        1   \n",
       "2                                               15                        0   \n",
       "3                                               20                        1   \n",
       "4                                               25                        2   \n",
       "\n",
       "  Período do dia Perfil ao volante  \n",
       "0          Manhã             calmo  \n",
       "1          Manhã          moderado  \n",
       "2          Manhã          moderado  \n",
       "3          Tarde         agressivo  \n",
       "4          Tarde         agressivo  "
      ]
     },
     "execution_count": 6,
     "metadata": {},
     "output_type": "execute_result"
    }
   ],
   "source": [
    "dados_tempo.head(n=5)"
   ]
  },
  {
   "cell_type": "code",
   "execution_count": 7,
   "metadata": {},
   "outputs": [
    {
     "data": {
      "text/html": [
       "<div>\n",
       "<style scoped>\n",
       "    .dataframe tbody tr th:only-of-type {\n",
       "        vertical-align: middle;\n",
       "    }\n",
       "\n",
       "    .dataframe tbody tr th {\n",
       "        vertical-align: top;\n",
       "    }\n",
       "\n",
       "    .dataframe thead th {\n",
       "        text-align: right;\n",
       "    }\n",
       "</style>\n",
       "<table border=\"1\" class=\"dataframe\">\n",
       "  <thead>\n",
       "    <tr style=\"text-align: right;\">\n",
       "      <th></th>\n",
       "      <th>Estudante</th>\n",
       "      <th>Tempo para chegar à escola (minutos)</th>\n",
       "      <th>Distância percorrida até a escola (quilômetros)</th>\n",
       "      <th>Quantidade de semáforos</th>\n",
       "      <th>Período do dia</th>\n",
       "      <th>Perfil ao volante</th>\n",
       "    </tr>\n",
       "  </thead>\n",
       "  <tbody>\n",
       "    <tr>\n",
       "      <th>7</th>\n",
       "      <td>Antônio</td>\n",
       "      <td>55</td>\n",
       "      <td>32</td>\n",
       "      <td>3</td>\n",
       "      <td>Tarde</td>\n",
       "      <td>calmo</td>\n",
       "    </tr>\n",
       "    <tr>\n",
       "      <th>8</th>\n",
       "      <td>Júlia</td>\n",
       "      <td>35</td>\n",
       "      <td>28</td>\n",
       "      <td>1</td>\n",
       "      <td>Manhã</td>\n",
       "      <td>moderado</td>\n",
       "    </tr>\n",
       "    <tr>\n",
       "      <th>9</th>\n",
       "      <td>Mariana</td>\n",
       "      <td>30</td>\n",
       "      <td>20</td>\n",
       "      <td>1</td>\n",
       "      <td>Manhã</td>\n",
       "      <td>moderado</td>\n",
       "    </tr>\n",
       "  </tbody>\n",
       "</table>\n",
       "</div>"
      ],
      "text/plain": [
       "  Estudante  Tempo para chegar à escola (minutos)  \\\n",
       "7   Antônio                                    55   \n",
       "8     Júlia                                    35   \n",
       "9   Mariana                                    30   \n",
       "\n",
       "   Distância percorrida até a escola (quilômetros)  Quantidade de semáforos  \\\n",
       "7                                               32                        3   \n",
       "8                                               28                        1   \n",
       "9                                               20                        1   \n",
       "\n",
       "  Período do dia Perfil ao volante  \n",
       "7          Tarde             calmo  \n",
       "8          Manhã          moderado  \n",
       "9          Manhã          moderado  "
      ]
     },
     "execution_count": 7,
     "metadata": {},
     "output_type": "execute_result"
    }
   ],
   "source": [
    "dados_tempo.tail(n=3)"
   ]
  },
  {
   "cell_type": "code",
   "execution_count": 8,
   "metadata": {},
   "outputs": [
    {
     "name": "stdout",
     "output_type": "stream",
     "text": [
      "<class 'pandas.core.frame.DataFrame'>\n",
      "RangeIndex: 10 entries, 0 to 9\n",
      "Data columns (total 6 columns):\n",
      " #   Column                                           Non-Null Count  Dtype \n",
      "---  ------                                           --------------  ----- \n",
      " 0   Estudante                                        10 non-null     object\n",
      " 1   Tempo para chegar à escola (minutos)             10 non-null     int64 \n",
      " 2   Distância percorrida até a escola (quilômetros)  10 non-null     int64 \n",
      " 3   Quantidade de semáforos                          10 non-null     int64 \n",
      " 4   Período do dia                                   10 non-null     object\n",
      " 5   Perfil ao volante                                10 non-null     object\n",
      "dtypes: int64(3), object(3)\n",
      "memory usage: 612.0+ bytes\n"
     ]
    }
   ],
   "source": [
    "dados_tempo.info()"
   ]
  },
  {
   "cell_type": "code",
   "execution_count": 9,
   "metadata": {},
   "outputs": [],
   "source": [
    "dados_tempo = dados_tempo.rename(columns={'Estudante':'estudante',\n",
    "                                          'Tempo para chegar à escola (minutos)':'tempo',\n",
    "                                          'Distância percorrida até a escola (quilômetros)': 'distancia',\n",
    "                                          'Quantidade de semáforos': 'semaforos',\n",
    "                                          'Período do dia': 'periodo',\n",
    "                                          'Perfil ao volante': 'perfil'})"
   ]
  },
  {
   "cell_type": "code",
   "execution_count": 10,
   "metadata": {},
   "outputs": [],
   "source": [
    "dados_novo = dados_tempo.rename(columns={dados_tempo.columns[0]: 'obs',\n",
    "                                         dados_tempo.columns[1]: 'temp',\n",
    "                                         dados_tempo.columns[5]: 'perf'})"
   ]
  },
  {
   "cell_type": "code",
   "execution_count": 11,
   "metadata": {},
   "outputs": [],
   "source": [
    "dados_novo.rename(columns={'distancia': 'dist',\n",
    "                           'semaforos': 'sem',\n",
    "                           'periodo': 'per'},\n",
    "                  inplace=True)"
   ]
  },
  {
   "cell_type": "code",
   "execution_count": 12,
   "metadata": {},
   "outputs": [
    {
     "data": {
      "text/plain": [
       "'Manhã'"
      ]
     },
     "execution_count": 12,
     "metadata": {},
     "output_type": "execute_result"
    }
   ],
   "source": [
    "dados_tempo.iloc[3,]\n",
    "dados_tempo.iloc[:,4] # argumento : indicam vazio na linha\n",
    "dados_tempo.iloc[2:5,] # note que exclui a posição final\n",
    "dados_tempo.iloc[:,3:5] # note que exclui a posição final\n",
    "dados_tempo.iloc[2:4,3:5] # note que exclui as posições finais\n",
    "dados_tempo.iloc[5,4]"
   ]
  },
  {
   "cell_type": "code",
   "execution_count": 13,
   "metadata": {},
   "outputs": [],
   "source": [
    "dados_tempo['tempo']\n",
    "var_tempo = dados_tempo['tempo']\n",
    "\n",
    "dados_tempo.perfil\n",
    "var_perfil = dados_tempo.perfil"
   ]
  },
  {
   "cell_type": "code",
   "execution_count": 14,
   "metadata": {},
   "outputs": [],
   "source": [
    "dados_tempo[['tempo', 'perfil']]\n",
    "var_tempo_perfil = dados_tempo[['tempo', 'perfil']]"
   ]
  },
  {
   "cell_type": "code",
   "execution_count": 15,
   "metadata": {},
   "outputs": [],
   "source": [
    "selec_1 = dados_tempo.loc[:, dados_tempo.columns.str.startswith('per')]"
   ]
  },
  {
   "cell_type": "code",
   "execution_count": 16,
   "metadata": {},
   "outputs": [],
   "source": [
    "selec_2 = dados_tempo.loc[:, dados_tempo.columns.str.endswith('o')]"
   ]
  },
  {
   "cell_type": "code",
   "execution_count": 17,
   "metadata": {},
   "outputs": [],
   "source": [
    "idade = pd.Series([25,28,30,19,20,36,33,48,19,21])\n",
    "dados_novo['idade'] = idade"
   ]
  },
  {
   "cell_type": "code",
   "execution_count": 18,
   "metadata": {},
   "outputs": [],
   "source": [
    "nova_obs = pd.DataFrame({'per': ['Tarde'],\n",
    "                         'obs': ['Roberto'],\n",
    "                         'temp': [40]})\n",
    "\n",
    "dados_concat = pd.concat([dados_novo, nova_obs])\n",
    "dados_concat = pd.concat([dados_novo, nova_obs]).reset_index(drop=True)\n"
   ]
  },
  {
   "cell_type": "code",
   "execution_count": 19,
   "metadata": {},
   "outputs": [],
   "source": [
    "dados_novo['sem_km'] = round((dados_novo['sem'] / dados_novo ['dist']), 2)"
   ]
  },
  {
   "cell_type": "code",
   "execution_count": 20,
   "metadata": {},
   "outputs": [
    {
     "name": "stdout",
     "output_type": "stream",
     "text": [
      "<class 'pandas.core.frame.DataFrame'>\n",
      "RangeIndex: 10 entries, 0 to 9\n",
      "Data columns (total 7 columns):\n",
      " #   Column       Non-Null Count  Dtype \n",
      "---  ------       --------------  ----- \n",
      " 0   estudante    10 non-null     object\n",
      " 1   tempo        10 non-null     int64 \n",
      " 2   distancia    10 non-null     int64 \n",
      " 3   semaforos    10 non-null     int64 \n",
      " 4   periodo      10 non-null     object\n",
      " 5   perfil       10 non-null     object\n",
      " 6   novo_perfil  10 non-null     object\n",
      "dtypes: int64(3), object(4)\n",
      "memory usage: 692.0+ bytes\n"
     ]
    }
   ],
   "source": [
    "labels = {'calmo': 'perfil_A',\n",
    "          'moderado': 'perfil_B',\n",
    "          'agressivo': 'perfil_C'}\n",
    "\n",
    "df_labels = dados_tempo.assign(novo_perfil = dados_tempo.perfil.map(labels))\n",
    "df_labels.info()"
   ]
  },
  {
   "cell_type": "code",
   "execution_count": 21,
   "metadata": {},
   "outputs": [
    {
     "name": "stdout",
     "output_type": "stream",
     "text": [
      "<class 'pandas.core.frame.DataFrame'>\n",
      "RangeIndex: 10 entries, 0 to 9\n",
      "Data columns (total 7 columns):\n",
      " #   Column       Non-Null Count  Dtype \n",
      "---  ------       --------------  ----- \n",
      " 0   estudante    10 non-null     object\n",
      " 1   tempo        10 non-null     int64 \n",
      " 2   distancia    10 non-null     int64 \n",
      " 3   semaforos    10 non-null     int64 \n",
      " 4   periodo      10 non-null     object\n",
      " 5   perfil       10 non-null     object\n",
      " 6   novo_perfil  10 non-null     int64 \n",
      "dtypes: int64(4), object(3)\n",
      "memory usage: 692.0+ bytes\n"
     ]
    }
   ],
   "source": [
    "numeros = {'calmo': 1,\n",
    "           'moderado': 2,\n",
    "           'agressivo': 3}\n",
    "\n",
    "df_numeros = dados_tempo.assign(novo_perfil = dados_tempo.perfil.map(numeros))\n",
    "df_numeros.info()\n"
   ]
  },
  {
   "cell_type": "code",
   "execution_count": 22,
   "metadata": {},
   "outputs": [
    {
     "name": "stdout",
     "output_type": "stream",
     "text": [
      "<class 'pandas.core.frame.DataFrame'>\n",
      "RangeIndex: 10 entries, 0 to 9\n",
      "Data columns (total 7 columns):\n",
      " #   Column          Non-Null Count  Dtype \n",
      "---  ------          --------------  ----- \n",
      " 0   estudante       10 non-null     object\n",
      " 1   tempo           10 non-null     int64 \n",
      " 2   distancia       10 non-null     int64 \n",
      " 3   semaforos       10 non-null     int64 \n",
      " 4   periodo         10 non-null     object\n",
      " 5   perfil          10 non-null     object\n",
      " 6   novo_semaforos  10 non-null     object\n",
      "dtypes: int64(3), object(4)\n",
      "memory usage: 692.0+ bytes\n"
     ]
    }
   ],
   "source": [
    "textos = {0: 'zero',\n",
    "          1: 'um',\n",
    "          2: 'dois',\n",
    "          3: 'três'}\n",
    "\n",
    "df_texto = dados_tempo.assign(novo_semaforos = dados_tempo.semaforos.map(textos))\n",
    "df_texto.info()"
   ]
  },
  {
   "cell_type": "code",
   "execution_count": 23,
   "metadata": {},
   "outputs": [],
   "source": [
    "dados_tempo['faixa'] = np.where(dados_tempo['tempo']<=20, 'rápido',\n",
    "                       np.where((dados_tempo['tempo']>20) & (dados_tempo['tempo']<=40), 'médio',\n",
    "                       np.where(dados_tempo['tempo']>40, 'demorado',\n",
    "                                'demais')))"
   ]
  },
  {
   "cell_type": "code",
   "execution_count": 24,
   "metadata": {},
   "outputs": [],
   "source": [
    "dados_tempo['quartis'] = pd.qcut(dados_tempo['tempo'], q=4, labels=['1','2','3','4'])"
   ]
  },
  {
   "cell_type": "code",
   "execution_count": 25,
   "metadata": {},
   "outputs": [
    {
     "name": "stdout",
     "output_type": "stream",
     "text": [
      "<class 'pandas.core.frame.DataFrame'>\n",
      "RangeIndex: 10 entries, 0 to 9\n",
      "Data columns (total 7 columns):\n",
      " #   Column       Non-Null Count  Dtype   \n",
      "---  ------       --------------  -----   \n",
      " 0   estudante    10 non-null     object  \n",
      " 1   tempo        10 non-null     int64   \n",
      " 2   distancia    10 non-null     int64   \n",
      " 3   semaforos    10 non-null     int64   \n",
      " 4   periodo      10 non-null     object  \n",
      " 5   perfil       10 non-null     object  \n",
      " 6   novo_perfil  10 non-null     category\n",
      "dtypes: category(1), int64(3), object(3)\n",
      "memory usage: 754.0+ bytes\n"
     ]
    }
   ],
   "source": [
    "df_numeros['novo_perfil'] = df_numeros['novo_perfil'].astype('category')\n",
    "df_numeros.info()\n"
   ]
  },
  {
   "cell_type": "code",
   "execution_count": 26,
   "metadata": {},
   "outputs": [],
   "source": [
    "df_numeros.drop(columns=['periodo', 'perfil'], inplace=True)"
   ]
  },
  {
   "cell_type": "code",
   "execution_count": 27,
   "metadata": {},
   "outputs": [],
   "source": [
    "df_org_1 = dados_tempo.sort_values(by=['tempo'], ascending=True).reset_index(drop=True)"
   ]
  },
  {
   "cell_type": "code",
   "execution_count": 28,
   "metadata": {},
   "outputs": [],
   "source": [
    "df_org_2 = dados_tempo.sort_values(by=['tempo'], ascending=False).reset_index(drop=True)"
   ]
  },
  {
   "cell_type": "code",
   "execution_count": 29,
   "metadata": {},
   "outputs": [],
   "source": [
    "df_org_3 = dados_tempo.sort_values(by=['estudante'], ascending=True).reset_index(drop=True)\n",
    "df_org_4 = dados_tempo.sort_values(by=['perfil'], ascending=False).reset_index(drop=True)"
   ]
  }
 ],
 "metadata": {
  "kernelspec": {
   "display_name": "Python 3",
   "language": "python",
   "name": "python3"
  },
  "language_info": {
   "codemirror_mode": {
    "name": "ipython",
    "version": 3
   },
   "file_extension": ".py",
   "mimetype": "text/x-python",
   "name": "python",
   "nbconvert_exporter": "python",
   "pygments_lexer": "ipython3",
   "version": "3.13.2"
  }
 },
 "nbformat": 4,
 "nbformat_minor": 2
}
