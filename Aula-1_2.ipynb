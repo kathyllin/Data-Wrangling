{
 "cells": [
  {
   "cell_type": "code",
   "execution_count": 1,
   "metadata": {},
   "outputs": [],
   "source": [
    "import pandas as pd\n",
    "import numpy as np\n",
    "import matplotlib.pyplot as plt"
   ]
  },
  {
   "cell_type": "code",
   "execution_count": 2,
   "metadata": {},
   "outputs": [],
   "source": [
    "dados_wdi = pd.read_excel('(2.2) WDI World Bank.xlsx', na_values='..')\n",
    "dados_grupo = pd.read_excel('(2.3) WDI Income Group.xlsx')\n",
    "dados_paises = pd.read_excel('(2.4) WDI Country.xlsx')"
   ]
  },
  {
   "cell_type": "code",
   "execution_count": 3,
   "metadata": {},
   "outputs": [
    {
     "name": "stdout",
     "output_type": "stream",
     "text": [
      "<class 'pandas.core.frame.DataFrame'>\n",
      "RangeIndex: 383577 entries, 0 to 383576\n",
      "Data columns (total 6 columns):\n",
      " #   Column         Non-Null Count   Dtype  \n",
      "---  ------         --------------   -----  \n",
      " 0   Country Name   383574 non-null  object \n",
      " 1   Country Code   383572 non-null  object \n",
      " 2   Series Name    383572 non-null  object \n",
      " 3   Series Code    383572 non-null  object \n",
      " 4   2021 [YR2021]  108687 non-null  float64\n",
      " 5   Topic          383572 non-null  object \n",
      "dtypes: float64(1), object(5)\n",
      "memory usage: 17.6+ MB\n"
     ]
    }
   ],
   "source": [
    "dados_wdi.info()"
   ]
  },
  {
   "cell_type": "code",
   "execution_count": 4,
   "metadata": {},
   "outputs": [
    {
     "data": {
      "text/plain": [
       "array(['Afghanistan', 'Albania', 'Algeria', 'American Samoa', 'Andorra',\n",
       "       'Angola', 'Antigua and Barbuda', 'Argentina', 'Armenia', 'Aruba',\n",
       "       'Australia', 'Austria', 'Azerbaijan', 'Bahamas, The', 'Bahrain',\n",
       "       'Bangladesh', 'Barbados', 'Belarus', 'Belgium', 'Belize', 'Benin',\n",
       "       'Bermuda', 'Bhutan', 'Bolivia', 'Bosnia and Herzegovina',\n",
       "       'Botswana', 'Brazil', 'British Virgin Islands',\n",
       "       'Brunei Darussalam', 'Bulgaria', 'Burkina Faso', 'Burundi',\n",
       "       'Cabo Verde', 'Cambodia', 'Cameroon', 'Canada', 'Cayman Islands',\n",
       "       'Central African Republic', 'Chad', 'Channel Islands', 'Chile',\n",
       "       'China', 'Colombia', 'Comoros', 'Congo, Dem. Rep.', 'Congo, Rep.',\n",
       "       'Costa Rica', \"Cote d'Ivoire\", 'Croatia', 'Cuba', 'Curacao',\n",
       "       'Cyprus', 'Czechia', 'Denmark', 'Djibouti', 'Dominica',\n",
       "       'Dominican Republic', 'Ecuador', 'Egypt, Arab Rep.', 'El Salvador',\n",
       "       'Equatorial Guinea', 'Eritrea', 'Estonia', 'Eswatini', 'Ethiopia',\n",
       "       'Faroe Islands', 'Fiji', 'Finland', 'France', 'French Polynesia',\n",
       "       'Gabon', 'Gambia, The', 'Georgia', 'Germany', 'Ghana', 'Gibraltar',\n",
       "       'Greece', 'Greenland', 'Grenada', 'Guam', 'Guatemala', 'Guinea',\n",
       "       'Guinea-Bissau', 'Guyana', 'Haiti', 'Honduras',\n",
       "       'Hong Kong SAR, China', 'Hungary', 'Iceland', 'India', 'Indonesia',\n",
       "       'Iran, Islamic Rep.', 'Iraq', 'Ireland', 'Isle of Man', 'Israel',\n",
       "       'Italy', 'Jamaica', 'Japan', 'Jordan', 'Kazakhstan', 'Kenya',\n",
       "       'Kiribati', \"Korea, Dem. People's Rep.\", 'Korea, Rep.', 'Kosovo',\n",
       "       'Kuwait', 'Kyrgyz Republic', 'Lao PDR', 'Latvia', 'Lebanon',\n",
       "       'Lesotho', 'Liberia', 'Libya', 'Liechtenstein', 'Lithuania',\n",
       "       'Luxembourg', 'Macao SAR, China', 'Madagascar', 'Malawi',\n",
       "       'Malaysia', 'Maldives', 'Mali', 'Malta', 'Marshall Islands',\n",
       "       'Mauritania', 'Mauritius', 'Mexico', 'Micronesia, Fed. Sts.',\n",
       "       'Moldova', 'Monaco', 'Mongolia', 'Montenegro', 'Morocco',\n",
       "       'Mozambique', 'Myanmar', 'Namibia', 'Nauru', 'Nepal',\n",
       "       'Netherlands', 'New Caledonia', 'New Zealand', 'Nicaragua',\n",
       "       'Niger', 'Nigeria', 'North Macedonia', 'Northern Mariana Islands',\n",
       "       'Norway', 'Oman', 'Pakistan', 'Palau', 'Panama',\n",
       "       'Papua New Guinea', 'Paraguay', 'Peru', 'Philippines', 'Poland',\n",
       "       'Portugal', 'Puerto Rico', 'Qatar', 'Romania',\n",
       "       'Russian Federation', 'Rwanda', 'Samoa', 'San Marino',\n",
       "       'Sao Tome and Principe', 'Saudi Arabia', 'Senegal', 'Serbia',\n",
       "       'Seychelles', 'Sierra Leone', 'Singapore',\n",
       "       'Sint Maarten (Dutch part)', 'Slovak Republic', 'Slovenia',\n",
       "       'Solomon Islands', 'Somalia', 'South Africa', 'South Sudan',\n",
       "       'Spain', 'Sri Lanka', 'St. Kitts and Nevis', 'St. Lucia',\n",
       "       'St. Martin (French part)', 'St. Vincent and the Grenadines',\n",
       "       'Sudan', 'Suriname', 'Sweden', 'Switzerland',\n",
       "       'Syrian Arab Republic', 'Tajikistan', 'Tanzania', 'Thailand',\n",
       "       'Timor-Leste', 'Togo', 'Tonga', 'Trinidad and Tobago', 'Tunisia',\n",
       "       'Turkiye', 'Turkmenistan', 'Turks and Caicos Islands', 'Tuvalu',\n",
       "       'Uganda', 'Ukraine', 'United Arab Emirates', 'United Kingdom',\n",
       "       'United States', 'Uruguay', 'Uzbekistan', 'Vanuatu',\n",
       "       'Venezuela, RB', 'Vietnam', 'Virgin Islands (U.S.)',\n",
       "       'West Bank and Gaza', 'Yemen, Rep.', 'Zambia', 'Zimbabwe',\n",
       "       'Africa Eastern and Southern', 'Africa Western and Central',\n",
       "       'Arab World', 'Caribbean small states',\n",
       "       'Central Europe and the Baltics', 'Early-demographic dividend',\n",
       "       'East Asia & Pacific',\n",
       "       'East Asia & Pacific (excluding high income)',\n",
       "       'East Asia & Pacific (IDA & IBRD countries)', 'Euro area',\n",
       "       'Europe & Central Asia',\n",
       "       'Europe & Central Asia (excluding high income)',\n",
       "       'Europe & Central Asia (IDA & IBRD countries)', 'European Union',\n",
       "       'Fragile and conflict affected situations',\n",
       "       'Heavily indebted poor countries (HIPC)', 'High income',\n",
       "       'IBRD only', 'IDA & IBRD total', 'IDA blend', 'IDA only',\n",
       "       'IDA total', 'Late-demographic dividend',\n",
       "       'Latin America & Caribbean',\n",
       "       'Latin America & Caribbean (excluding high income)',\n",
       "       'Latin America & the Caribbean (IDA & IBRD countries)',\n",
       "       'Least developed countries: UN classification',\n",
       "       'Low & middle income', 'Low income', 'Lower middle income',\n",
       "       'Middle East & North Africa',\n",
       "       'Middle East & North Africa (excluding high income)',\n",
       "       'Middle East & North Africa (IDA & IBRD countries)',\n",
       "       'Middle income', 'North America', 'Not classified', 'OECD members',\n",
       "       'Other small states', 'Pacific island small states',\n",
       "       'Post-demographic dividend', 'Pre-demographic dividend',\n",
       "       'Small states', 'South Asia', 'South Asia (IDA & IBRD)',\n",
       "       'Sub-Saharan Africa', 'Sub-Saharan Africa (excluding high income)',\n",
       "       'Sub-Saharan Africa (IDA & IBRD countries)', 'Upper middle income',\n",
       "       'World', nan, 'Data from database: World Development Indicators',\n",
       "       'Last Updated: 03/30/2023'], dtype=object)"
      ]
     },
     "execution_count": 4,
     "metadata": {},
     "output_type": "execute_result"
    }
   ],
   "source": [
    "dados_wdi['Country Name'].unique()"
   ]
  },
  {
   "cell_type": "code",
   "execution_count": 5,
   "metadata": {},
   "outputs": [
    {
     "data": {
      "text/plain": [
       "array(['Access to clean fuels and technologies for cooking (% of population)',\n",
       "       'Access to clean fuels and technologies for cooking, rural (% of rural population)',\n",
       "       'Access to clean fuels and technologies for cooking, urban (% of urban population)',\n",
       "       ..., \"Women's share of population ages 15+ living with HIV (%)\",\n",
       "       'Young people (ages 15-24) newly infected with HIV', nan],\n",
       "      shape=(1443,), dtype=object)"
      ]
     },
     "execution_count": 5,
     "metadata": {},
     "output_type": "execute_result"
    }
   ],
   "source": [
    "dados_wdi['Series Name'].unique()"
   ]
  },
  {
   "cell_type": "code",
   "execution_count": 6,
   "metadata": {},
   "outputs": [
    {
     "data": {
      "text/plain": [
       "array(['Environment: Energy production & use', 'Financial Sector: Access',\n",
       "       'Social Protection & Labor: Performance',\n",
       "       'Education: Participation',\n",
       "       'Economic Policy & Debt: National accounts: Adjusted savings & income',\n",
       "       'Health: Reproductive health', 'Health: Risk factors',\n",
       "       'Health: Population: Dynamics', 'Environment: Land use',\n",
       "       'Environment: Agricultural production', 'Environment: Emissions',\n",
       "       'Private Sector & Trade: Exports',\n",
       "       'Private Sector & Trade: Imports',\n",
       "       'Economic Policy & Debt: National accounts: Shares of GDP & other',\n",
       "       'Economic Policy & Debt: National accounts: Growth rates',\n",
       "       'Economic Policy & Debt: National accounts: US$ at constant 2015 prices: Value added',\n",
       "       'Economic Policy & Debt: National accounts: Local currency at constant prices: Value added',\n",
       "       'Economic Policy & Debt: National accounts: Local currency at current prices: Value added',\n",
       "       'Economic Policy & Debt: National accounts: US$ at current prices: Value added',\n",
       "       'Infrastructure: Transportation', 'Environment: Freshwater',\n",
       "       'Poverty: Shared prosperity', 'Health: Disease prevention',\n",
       "       'Public Sector: Defense & arms trade',\n",
       "       'Private Sector & Trade: Business environment',\n",
       "       'Social Protection & Labor: Economic activity',\n",
       "       'Financial Sector: Assets', 'Public Sector: Conflict & fragility',\n",
       "       'Private Sector & Trade: Tariffs',\n",
       "       'Environment: Biodiversity & protected areas',\n",
       "       'Financial Sector: Monetary holdings (liabilities)',\n",
       "       'Public Sector: Government finance: Deficit & financing',\n",
       "       'Economic Policy & Debt: National accounts: Local currency at constant prices: Expenditure on GDP',\n",
       "       'Economic Policy & Debt: National accounts: Local currency at current prices: Expenditure on GDP',\n",
       "       'Economic Policy & Debt: National accounts: US$ at current prices: Expenditure on GDP',\n",
       "       'Economic Policy & Debt: Balance of payments: Current account: Goods, services & income',\n",
       "       'Environment: Natural resources contribution to GDP',\n",
       "       'Economic Policy & Debt: External debt: Net flows',\n",
       "       'Health: Health systems',\n",
       "       'Public Sector: Government finance: Expense',\n",
       "       'Education: Outcomes', 'Financial Sector: Exchange rates & prices',\n",
       "       'Health: Nutrition', 'Private Sector & Trade: Trade facilitation',\n",
       "       'Public Sector: Policy & institutions',\n",
       "       'Economic Policy & Debt: Balance of payments: Current account: Balances',\n",
       "       'Education: Inputs', 'Public Sector: Government finance: Revenue',\n",
       "       'Economic Policy & Debt: External debt: Debt service',\n",
       "       'Financial Sector: Interest rates',\n",
       "       'Private Sector & Trade: Trade price indices',\n",
       "       'Private Sector & Trade: Trade indexes',\n",
       "       'Economic Policy & Debt: National accounts: Local currency at constant prices: Other items',\n",
       "       'Economic Policy & Debt: National accounts: US$ at constant 2015 prices: Expenditure on GDP',\n",
       "       'Economic Policy & Debt: External debt: Debt ratios & other items',\n",
       "       'Economic Policy & Debt: External debt: Debt outstanding',\n",
       "       'Infrastructure: Communications',\n",
       "       'Economic Policy & Debt: Balance of payments: Capital & financial account',\n",
       "       'Economic Policy & Debt: National accounts: US$ at constant 2015 prices: Aggregate indicators',\n",
       "       'Economic Policy & Debt: National accounts: Local currency at constant prices: Aggregate indicators',\n",
       "       'Economic Policy & Debt: National accounts: Local currency at current prices: Aggregate indicators',\n",
       "       'Economic Policy & Debt: National accounts: US$ at current prices: Aggregate indicators',\n",
       "       'Economic Policy & Debt: Purchasing power parity',\n",
       "       'Poverty: Income distribution',\n",
       "       'Economic Policy & Debt: National accounts: Atlas GNI & GNI per capita',\n",
       "       'Economic Policy & Debt: Balance of payments: Reserves & other items',\n",
       "       'Education: Efficiency', 'Infrastructure: Technology',\n",
       "       'Health: Universal Health Coverage',\n",
       "       'Social Protection & Labor: Migration',\n",
       "       'Private Sector & Trade: Travel & tourism',\n",
       "       'Private Sector & Trade: Private infrastructure investment',\n",
       "       'Social Protection & Labor: Labor force structure',\n",
       "       'Health: Mortality', 'Financial Sector: Capital markets',\n",
       "       'Private Sector & Trade: Total merchandise trade',\n",
       "       'Poverty: Multidimensional poverty',\n",
       "       'Economic Policy & Debt: Official development assistance',\n",
       "       'Economic Policy & Debt: Balance of payments: Current account: Transfers',\n",
       "       'Health: Population: Structure',\n",
       "       'Environment: Density & urbanization', 'Poverty: Poverty rates',\n",
       "       'Health', 'Public Sector: Government finance',\n",
       "       'Gender: Public life & decision making',\n",
       "       'Gender: Participation & access', 'Gender: Health',\n",
       "       'Social Protection & Labor: Unemployment', 'Gender: Agency', nan],\n",
       "      dtype=object)"
      ]
     },
     "execution_count": 6,
     "metadata": {},
     "output_type": "execute_result"
    }
   ],
   "source": [
    "dados_wdi['Topic'].unique()"
   ]
  },
  {
   "cell_type": "code",
   "execution_count": 7,
   "metadata": {},
   "outputs": [],
   "source": [
    "dados_wdi.rename(columns={'Country Name':'pais',\n",
    "                          'Country Code':'cod_pais',\n",
    "                          'Series Name':'serie',\n",
    "                          'Series Code':'cod_serie',\n",
    "                          '2021 [YR2021]':'ano_2021',\n",
    "                          'Topic':'topico'}, inplace=True)"
   ]
  },
  {
   "cell_type": "code",
   "execution_count": 8,
   "metadata": {},
   "outputs": [
    {
     "data": {
      "text/plain": [
       "383557                                               World\n",
       "383558                                               World\n",
       "383559                                               World\n",
       "383560                                               World\n",
       "383561                                               World\n",
       "383562                                               World\n",
       "383563                                               World\n",
       "383564                                               World\n",
       "383565                                               World\n",
       "383566                                               World\n",
       "383567                                               World\n",
       "383568                                               World\n",
       "383569                                               World\n",
       "383570                                               World\n",
       "383571                                               World\n",
       "383572                                                 NaN\n",
       "383573                                                 NaN\n",
       "383574                                                 NaN\n",
       "383575    Data from database: World Development Indicators\n",
       "383576                            Last Updated: 03/30/2023\n",
       "Name: pais, dtype: object"
      ]
     },
     "execution_count": 8,
     "metadata": {},
     "output_type": "execute_result"
    }
   ],
   "source": [
    "dados_wdi['pais'].tail(n=20)"
   ]
  },
  {
   "cell_type": "code",
   "execution_count": 9,
   "metadata": {},
   "outputs": [],
   "source": [
    "dados_wdi = dados_wdi.iloc[0:383572,]"
   ]
  },
  {
   "cell_type": "code",
   "execution_count": 10,
   "metadata": {},
   "outputs": [
    {
     "data": {
      "text/plain": [
       "383552    World\n",
       "383553    World\n",
       "383554    World\n",
       "383555    World\n",
       "383556    World\n",
       "383557    World\n",
       "383558    World\n",
       "383559    World\n",
       "383560    World\n",
       "383561    World\n",
       "383562    World\n",
       "383563    World\n",
       "383564    World\n",
       "383565    World\n",
       "383566    World\n",
       "383567    World\n",
       "383568    World\n",
       "383569    World\n",
       "383570    World\n",
       "383571    World\n",
       "Name: pais, dtype: object"
      ]
     },
     "execution_count": 10,
     "metadata": {},
     "output_type": "execute_result"
    }
   ],
   "source": [
    "dados_wdi['pais'].tail(n=20)"
   ]
  },
  {
   "cell_type": "code",
   "execution_count": 11,
   "metadata": {},
   "outputs": [],
   "source": [
    "dados_saude = dados_wdi[dados_wdi['topico'].str.startswith('Health')]"
   ]
  },
  {
   "cell_type": "code",
   "execution_count": 12,
   "metadata": {},
   "outputs": [],
   "source": [
    "dados_saude = pd.pivot(dados_saude,\n",
    "                       index=['pais', 'cod_pais'],\n",
    "                       columns=['serie'],\n",
    "                       values='ano_2021')"
   ]
  },
  {
   "cell_type": "code",
   "execution_count": 13,
   "metadata": {},
   "outputs": [],
   "source": [
    "dados_saude.reset_index(inplace=True)"
   ]
  },
  {
   "cell_type": "code",
   "execution_count": null,
   "metadata": {},
   "outputs": [],
   "source": []
  }
 ],
 "metadata": {
  "kernelspec": {
   "display_name": "Python 3",
   "language": "python",
   "name": "python3"
  },
  "language_info": {
   "codemirror_mode": {
    "name": "ipython",
    "version": 3
   },
   "file_extension": ".py",
   "mimetype": "text/x-python",
   "name": "python",
   "nbconvert_exporter": "python",
   "pygments_lexer": "ipython3",
   "version": "3.13.2"
  }
 },
 "nbformat": 4,
 "nbformat_minor": 2
}
