{
 "cells": [
  {
   "cell_type": "code",
   "execution_count": 1,
   "metadata": {},
   "outputs": [],
   "source": [
    "import pandas as pd\n",
    "import numpy as np\n",
    "import seaborn as sns\n",
    "import matplotlib.pyplot as plt"
   ]
  },
  {
   "cell_type": "code",
   "execution_count": 2,
   "metadata": {},
   "outputs": [],
   "source": [
    "dados_cvm = pd.read_csv('(3.2) CVM Resultado.csv', \n",
    "                        sep=';',\n",
    "                        encoding='latin1')"
   ]
  },
  {
   "cell_type": "code",
   "execution_count": 3,
   "metadata": {},
   "outputs": [],
   "source": [
    "dados_cadastro = pd.read_csv('(3.3) CVM Dados Cadastrais.csv', \n",
    "                        sep=';',\n",
    "                        encoding='latin1')"
   ]
  },
  {
   "cell_type": "code",
   "execution_count": 4,
   "metadata": {},
   "outputs": [],
   "source": [
    "contas = dados_cvm['DS_CONTA'].unique()"
   ]
  },
  {
   "cell_type": "code",
   "execution_count": 5,
   "metadata": {},
   "outputs": [],
   "source": [
    "dados_sel = dados_cvm.query('CD_CONTA == \"3.01\" | CD_CONTA == \"3.11\"')"
   ]
  },
  {
   "cell_type": "code",
   "execution_count": 6,
   "metadata": {},
   "outputs": [],
   "source": [
    "data = pd.to_datetime(dados_sel['DT_FIM_EXERC']).dt.year\n",
    "dados_sel.insert(5, 'ANO', data)"
   ]
  },
  {
   "cell_type": "code",
   "execution_count": 7,
   "metadata": {},
   "outputs": [
    {
     "name": "stdout",
     "output_type": "stream",
     "text": [
      "<class 'pandas.core.frame.DataFrame'>\n",
      "Index: 1302 entries, 0 to 23469\n",
      "Data columns (total 16 columns):\n",
      " #   Column         Non-Null Count  Dtype  \n",
      "---  ------         --------------  -----  \n",
      " 0   CNPJ_CIA       1302 non-null   object \n",
      " 1   DT_REFER       1302 non-null   object \n",
      " 2   VERSAO         1302 non-null   int64  \n",
      " 3   DENOM_CIA      1302 non-null   object \n",
      " 4   CD_CVM         1302 non-null   int64  \n",
      " 5   ANO            1302 non-null   int32  \n",
      " 6   GRUPO_DFP      1302 non-null   object \n",
      " 7   MOEDA          1302 non-null   object \n",
      " 8   ESCALA_MOEDA   1302 non-null   object \n",
      " 9   ORDEM_EXERC    1302 non-null   object \n",
      " 10  DT_INI_EXERC   1302 non-null   object \n",
      " 11  DT_FIM_EXERC   1302 non-null   object \n",
      " 12  CD_CONTA       1302 non-null   object \n",
      " 13  DS_CONTA       1302 non-null   object \n",
      " 14  VL_CONTA       1302 non-null   float64\n",
      " 15  ST_CONTA_FIXA  1302 non-null   object \n",
      "dtypes: float64(1), int32(1), int64(2), object(12)\n",
      "memory usage: 167.8+ KB\n"
     ]
    }
   ],
   "source": [
    "dados_sel.info()"
   ]
  },
  {
   "cell_type": "code",
   "execution_count": 8,
   "metadata": {},
   "outputs": [],
   "source": [
    "dados_sel = dados_sel.sort_values(by=['CD_CONTA', 'CD_CVM'], ascending=True)"
   ]
  },
  {
   "cell_type": "code",
   "execution_count": 9,
   "metadata": {},
   "outputs": [],
   "source": [
    "contagem = dados_sel.groupby(['CD_CVM','CD_CONTA'])['VL_CONTA'].count()"
   ]
  },
  {
   "cell_type": "code",
   "execution_count": 10,
   "metadata": {},
   "outputs": [],
   "source": [
    "dados_sel.query('~(CD_CVM == 26077 & VERSAO ==1)', inplace=True)"
   ]
  },
  {
   "cell_type": "code",
   "execution_count": 11,
   "metadata": {},
   "outputs": [],
   "source": [
    "cadastrais = dados_cadastro[['CD_CVM','SETOR_ATIV']].copy()"
   ]
  },
  {
   "cell_type": "code",
   "execution_count": 12,
   "metadata": {},
   "outputs": [],
   "source": [
    "cadastrais = cadastrais[cadastrais['SETOR_ATIV'].notnull()]"
   ]
  },
  {
   "cell_type": "code",
   "execution_count": 13,
   "metadata": {},
   "outputs": [],
   "source": [
    "cadastrais.drop_duplicates(inplace=True)"
   ]
  },
  {
   "cell_type": "code",
   "execution_count": 14,
   "metadata": {},
   "outputs": [],
   "source": [
    "dados_sel = pd.merge(dados_sel,\n",
    "                    cadastrais,\n",
    "                    how='left',\n",
    "                    on='CD_CVM')"
   ]
  },
  {
   "cell_type": "code",
   "execution_count": 15,
   "metadata": {},
   "outputs": [],
   "source": [
    "dados_sel = dados_sel[['CD_CVM',\n",
    "                       'DENOM_CIA',\n",
    "                       'SETOR_ATIV',\n",
    "                       'CD_CONTA',\n",
    "                       'ANO',\n",
    "                       'VL_CONTA']]"
   ]
  },
  {
   "cell_type": "code",
   "execution_count": 16,
   "metadata": {},
   "outputs": [],
   "source": [
    "labels = {'3.01':'Receita',\n",
    "          '3.11':'Resultado'}"
   ]
  },
  {
   "cell_type": "code",
   "execution_count": 17,
   "metadata": {},
   "outputs": [],
   "source": [
    "dados_sel = dados_sel.assign(CD_CONTA = dados_sel.CD_CONTA.map(labels))"
   ]
  }
 ],
 "metadata": {
  "kernelspec": {
   "display_name": "Python 3",
   "language": "python",
   "name": "python3"
  },
  "language_info": {
   "codemirror_mode": {
    "name": "ipython",
    "version": 3
   },
   "file_extension": ".py",
   "mimetype": "text/x-python",
   "name": "python",
   "nbconvert_exporter": "python",
   "pygments_lexer": "ipython3",
   "version": "3.13.2"
  }
 },
 "nbformat": 4,
 "nbformat_minor": 2
}
